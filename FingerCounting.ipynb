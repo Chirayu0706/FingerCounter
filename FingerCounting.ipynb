{
 "cells": [
  {
   "cell_type": "code",
   "execution_count": 37,
   "id": "2075df7f",
   "metadata": {
    "scrolled": true
   },
   "outputs": [],
   "source": [
    "import cv2 as cv\n",
    "import HandTrackingModule as htm"
   ]
  },
  {
   "cell_type": "code",
   "execution_count": 38,
   "id": "219eb00d",
   "metadata": {},
   "outputs": [],
   "source": [
    "capture = cv.VideoCapture(0)\n",
    "detector = htm.handDetector(detectionCon = 0.75)\n",
    "while True:\n",
    "    flag=0\n",
    "    success, img = capture.read()\n",
    "    img = detector.findHands(img,draw=False)\n",
    "    lmlist = detector.findPosition(img,draw=False)\n",
    "    #print(lmlist)\n",
    "    number_of_fingers_open =5\n",
    "    if len(lmlist)!=0:\n",
    "        flag=1\n",
    "        if lmlist[17][1]<lmlist[2][1]:\n",
    "            if lmlist[3][1]>lmlist[4][1]:\n",
    "                number_of_fingers_open-=1;\n",
    "        else:\n",
    "            if lmlist[3][1]<lmlist[4][1]:\n",
    "                number_of_fingers_open-=1;\n",
    "        if lmlist[7][2]<lmlist[8][2]:\n",
    "            number_of_fingers_open-=1;\n",
    "        if lmlist[11][2]<lmlist[12][2]:\n",
    "            number_of_fingers_open-=1;\n",
    "        if lmlist[15][2]<lmlist[16][2]:\n",
    "            number_of_fingers_open-=1;\n",
    "        if lmlist[19][2]<lmlist[20][2]:\n",
    "            number_of_fingers_open-=1;\n",
    "    if flag==0:\n",
    "        number_of_fingers_open=0\n",
    "    cv.putText(img,str(number_of_fingers_open),(50,70),cv.FONT_HERSHEY_PLAIN,3,(255,0,255),3)\n",
    "    cv.imshow('Video',img)\n",
    "    if cv.waitKey(20) & 0xFF==ord('d'):\n",
    "        cv.destroyAllWindows()\n",
    "        break\n",
    "capture.release()\n",
    "    "
   ]
  },
  {
   "cell_type": "code",
   "execution_count": null,
   "id": "69f1f621",
   "metadata": {},
   "outputs": [],
   "source": []
  }
 ],
 "metadata": {
  "kernelspec": {
   "display_name": "Python 3 (ipykernel)",
   "language": "python",
   "name": "python3"
  },
  "language_info": {
   "codemirror_mode": {
    "name": "ipython",
    "version": 3
   },
   "file_extension": ".py",
   "mimetype": "text/x-python",
   "name": "python",
   "nbconvert_exporter": "python",
   "pygments_lexer": "ipython3",
   "version": "3.9.7"
  }
 },
 "nbformat": 4,
 "nbformat_minor": 5
}
